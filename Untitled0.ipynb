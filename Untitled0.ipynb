{
  "nbformat": 4,
  "nbformat_minor": 0,
  "metadata": {
    "colab": {
      "provenance": [],
      "authorship_tag": "ABX9TyNBEeDyMKaMZoXqgtcwfUpf",
      "include_colab_link": true
    },
    "kernelspec": {
      "name": "python3",
      "display_name": "Python 3"
    },
    "language_info": {
      "name": "python"
    }
  },
  "cells": [
    {
      "cell_type": "markdown",
      "metadata": {
        "id": "view-in-github",
        "colab_type": "text"
      },
      "source": [
        "<a href=\"https://colab.research.google.com/github/shaikchnadbhasha/SQL-project/blob/main/Untitled0.ipynb\" target=\"_parent\"><img src=\"https://colab.research.google.com/assets/colab-badge.svg\" alt=\"Open In Colab\"/></a>"
      ]
    },
    {
      "cell_type": "code",
      "execution_count": null,
      "metadata": {
        "colab": {
          "base_uri": "https://localhost:8080/"
        },
        "id": "UZwoYk_HOxly",
        "outputId": "7c7b49bd-8b6b-4ac4-fdd7-e8cf5046f54c"
      },
      "outputs": [
        {
          "output_type": "stream",
          "name": "stdout",
          "text": [
            "Requirement already satisfied: pyspark in /usr/local/lib/python3.11/dist-packages (3.5.1)\n",
            "Requirement already satisfied: py4j==0.10.9.7 in /usr/local/lib/python3.11/dist-packages (from pyspark) (0.10.9.7)\n"
          ]
        }
      ],
      "source": [
        "pip install pyspark"
      ]
    },
    {
      "cell_type": "code",
      "source": [
        "import pyspark"
      ],
      "metadata": {
        "id": "stO6vVr6PH1F"
      },
      "execution_count": null,
      "outputs": []
    },
    {
      "cell_type": "code",
      "source": [
        "from pyspark.sql import SparkSession"
      ],
      "metadata": {
        "id": "rLuVo5wuPa8u"
      },
      "execution_count": null,
      "outputs": []
    },
    {
      "cell_type": "code",
      "source": [
        "spark = SparkSession.builder.appName(\"practice\").getOrCreate()"
      ],
      "metadata": {
        "id": "fGhg8GKJP5vC"
      },
      "execution_count": null,
      "outputs": []
    },
    {
      "cell_type": "code",
      "source": [
        "from  pyspark.sql import Row\n",
        "data = [Row(name=\"Basha\", age=90), Row(name=\"Ayushh\", age=19), Row(name=\"Rafii\", age=23)]\n",
        "df = spark.createDataFrame(data)"
      ],
      "metadata": {
        "id": "IOyCYOnrTdVk"
      },
      "execution_count": null,
      "outputs": []
    },
    {
      "cell_type": "code",
      "source": [
        "df.select(\"name\")"
      ],
      "metadata": {
        "colab": {
          "base_uri": "https://localhost:8080/"
        },
        "id": "IC78wDU9Uo-2",
        "outputId": "31c9740e-f84a-42d3-9c10-5c76cefa96b9"
      },
      "execution_count": null,
      "outputs": [
        {
          "output_type": "execute_result",
          "data": {
            "text/plain": [
              "DataFrame[name: string]"
            ]
          },
          "metadata": {},
          "execution_count": 7
        }
      ]
    },
    {
      "cell_type": "code",
      "source": [
        "df.filter(df.age > 20)"
      ],
      "metadata": {
        "colab": {
          "base_uri": "https://localhost:8080/"
        },
        "id": "OTFgOKPxXAMB",
        "outputId": "b581f2a0-7918-41a9-f213-ab4c86e282fd"
      },
      "execution_count": null,
      "outputs": [
        {
          "output_type": "execute_result",
          "data": {
            "text/plain": [
              "DataFrame[name: string, age: bigint]"
            ]
          },
          "metadata": {},
          "execution_count": 8
        }
      ]
    },
    {
      "cell_type": "code",
      "source": [
        "from pyspark.sql.functions import col\n",
        "df.withColumn(\"age_plus_10\",col(\"age\")+10).show()"
      ],
      "metadata": {
        "colab": {
          "base_uri": "https://localhost:8080/"
        },
        "id": "ym8ccUYIX-Ux",
        "outputId": "e6f6ba69-d919-4b76-b77e-b2dccb1bc3b1"
      },
      "execution_count": null,
      "outputs": [
        {
          "output_type": "stream",
          "name": "stdout",
          "text": [
            "+------+---+-----------+\n",
            "|  name|age|age_plus_10|\n",
            "+------+---+-----------+\n",
            "| Basha| 90|        100|\n",
            "|Ayushh| 19|         29|\n",
            "| Rafii| 23|         33|\n",
            "+------+---+-----------+\n",
            "\n"
          ]
        }
      ]
    },
    {
      "cell_type": "code",
      "source": [
        "from pyspark.sql.functions import col\n",
        "df.filter(col(\"name\")==\"alice\").show()"
      ],
      "metadata": {
        "colab": {
          "base_uri": "https://localhost:8080/"
        },
        "id": "G9Le-lDXOy5U",
        "outputId": "e1788bd2-77a0-4ea1-c972-b137d49c633e"
      },
      "execution_count": null,
      "outputs": [
        {
          "output_type": "stream",
          "name": "stdout",
          "text": [
            "+----+---+\n",
            "|name|age|\n",
            "+----+---+\n",
            "+----+---+\n",
            "\n"
          ]
        }
      ]
    },
    {
      "cell_type": "code",
      "source": [
        "df.groupBy(\"age\").count().show()"
      ],
      "metadata": {
        "colab": {
          "base_uri": "https://localhost:8080/"
        },
        "id": "fZueHPdpQf1B",
        "outputId": "75fff63c-bf96-44bd-e805-cf141b36f999"
      },
      "execution_count": null,
      "outputs": [
        {
          "output_type": "stream",
          "name": "stdout",
          "text": [
            "+---+-----+\n",
            "|age|count|\n",
            "+---+-----+\n",
            "| 90|    1|\n",
            "| 19|    1|\n",
            "| 23|    1|\n",
            "+---+-----+\n",
            "\n"
          ]
        }
      ]
    },
    {
      "cell_type": "code",
      "source": [
        "df.orderBy(df.age.desc()).show()"
      ],
      "metadata": {
        "colab": {
          "base_uri": "https://localhost:8080/"
        },
        "id": "WeqiKAyiQqyR",
        "outputId": "cbe81a53-f7bf-43b7-981e-ca1687837106"
      },
      "execution_count": null,
      "outputs": [
        {
          "output_type": "stream",
          "name": "stdout",
          "text": [
            "+------+---+\n",
            "|  name|age|\n",
            "+------+---+\n",
            "| Basha| 90|\n",
            "| Rafii| 23|\n",
            "|Ayushh| 19|\n",
            "+------+---+\n",
            "\n"
          ]
        }
      ]
    },
    {
      "cell_type": "code",
      "source": [
        "df.orderBy(df.age.asc()).show()"
      ],
      "metadata": {
        "colab": {
          "base_uri": "https://localhost:8080/"
        },
        "id": "HjLM_o6WQ2J0",
        "outputId": "c2febcb9-cd72-43ab-f7b1-1a47fd7e721e"
      },
      "execution_count": null,
      "outputs": [
        {
          "output_type": "stream",
          "name": "stdout",
          "text": [
            "+------+---+\n",
            "|  name|age|\n",
            "+------+---+\n",
            "|Ayushh| 19|\n",
            "| Rafii| 23|\n",
            "| Basha| 90|\n",
            "+------+---+\n",
            "\n"
          ]
        }
      ]
    },
    {
      "cell_type": "code",
      "source": [
        "df.withColumnRenamed(\"name\", \"names\").show()"
      ],
      "metadata": {
        "colab": {
          "base_uri": "https://localhost:8080/"
        },
        "id": "YcGwzjMPQ_sH",
        "outputId": "c2f555b9-f372-4d79-add8-ffbc7e789da3"
      },
      "execution_count": null,
      "outputs": [
        {
          "output_type": "stream",
          "name": "stdout",
          "text": [
            "+------+---+\n",
            "| names|age|\n",
            "+------+---+\n",
            "| Basha| 90|\n",
            "|Ayushh| 19|\n",
            "| Rafii| 23|\n",
            "+------+---+\n",
            "\n"
          ]
        }
      ]
    },
    {
      "cell_type": "code",
      "source": [
        "from pyspark.sql.types import StructType, StructField, StringType, IntegerType\n",
        "schema = StructType([StructField(\"names\", StringType(), True), StructField(\"age\", IntegerType(), True)])\n",
        "data = [(\"David\", 22), (\"eva\", 29)]\n",
        "df2 = spark.createDataFrame(data, schema)\n",
        "df2.show()"
      ],
      "metadata": {
        "colab": {
          "base_uri": "https://localhost:8080/"
        },
        "id": "OJhmJxA5RTNA",
        "outputId": "564d58fd-1e2d-4ca6-abe4-ef950d3c7449"
      },
      "execution_count": null,
      "outputs": [
        {
          "output_type": "stream",
          "name": "stdout",
          "text": [
            "+-----+---+\n",
            "|names|age|\n",
            "+-----+---+\n",
            "|David| 22|\n",
            "|  eva| 29|\n",
            "+-----+---+\n",
            "\n"
          ]
        }
      ]
    },
    {
      "cell_type": "code",
      "source": [
        "from pyspark.sql.functions import when, col\n",
        "df.withColumn(\"age_group\",when(df.age<30,\"young\").otherwise(\"old\")).show()"
      ],
      "metadata": {
        "colab": {
          "base_uri": "https://localhost:8080/"
        },
        "id": "ojrCGIOMRWWw",
        "outputId": "b7d34a03-aea2-4ca7-cc5a-0250f9d5ad49"
      },
      "execution_count": null,
      "outputs": [
        {
          "output_type": "stream",
          "name": "stdout",
          "text": [
            "+------+---+---------+\n",
            "|  name|age|age_group|\n",
            "+------+---+---------+\n",
            "| Basha| 90|      old|\n",
            "|Ayushh| 19|    young|\n",
            "| Rafii| 23|    young|\n",
            "+------+---+---------+\n",
            "\n"
          ]
        }
      ]
    },
    {
      "cell_type": "code",
      "source": [
        "dfwithdupes=df.union(df).show()"
      ],
      "metadata": {
        "colab": {
          "base_uri": "https://localhost:8080/"
        },
        "id": "3xWVL_VCR4cC",
        "outputId": "eb531bba-1774-4abf-e1b9-dbedc96a15cc"
      },
      "execution_count": null,
      "outputs": [
        {
          "output_type": "stream",
          "name": "stdout",
          "text": [
            "+------+---+\n",
            "|  name|age|\n",
            "+------+---+\n",
            "| Basha| 90|\n",
            "|Ayushh| 19|\n",
            "| Rafii| 23|\n",
            "| Basha| 90|\n",
            "|Ayushh| 19|\n",
            "| Rafii| 23|\n",
            "+------+---+\n",
            "\n"
          ]
        }
      ]
    },
    {
      "cell_type": "code",
      "source": [
        "dfwithdupes=df.union(df)\n",
        "dfwithdupes.dropDuplicates().show()"
      ],
      "metadata": {
        "colab": {
          "base_uri": "https://localhost:8080/"
        },
        "id": "-QpiO7apTeZX",
        "outputId": "412ef280-daae-4037-f596-02a776b6217f"
      },
      "execution_count": null,
      "outputs": [
        {
          "output_type": "stream",
          "name": "stdout",
          "text": [
            "+------+---+\n",
            "|  name|age|\n",
            "+------+---+\n",
            "| Basha| 90|\n",
            "|Ayushh| 19|\n",
            "| Rafii| 23|\n",
            "+------+---+\n",
            "\n"
          ]
        }
      ]
    },
    {
      "cell_type": "code",
      "source": [
        "df.describe().show()"
      ],
      "metadata": {
        "colab": {
          "base_uri": "https://localhost:8080/"
        },
        "id": "2KUuo4CMUSKT",
        "outputId": "e388583c-535a-4fb5-d6d2-8a67aa2900e6"
      },
      "execution_count": null,
      "outputs": [
        {
          "output_type": "stream",
          "name": "stdout",
          "text": [
            "+-------+------+-----------------+\n",
            "|summary|  name|              age|\n",
            "+-------+------+-----------------+\n",
            "|  count|     3|                3|\n",
            "|   mean|  NULL|             44.0|\n",
            "| stddev|  NULL|39.88734135035826|\n",
            "|    min|Ayushh|               19|\n",
            "|    max| Rafii|               90|\n",
            "+-------+------+-----------------+\n",
            "\n"
          ]
        }
      ]
    },
    {
      "cell_type": "code",
      "source": [
        "from pyspark.sql.functions import expr\n",
        "df.withColumn(\"double_age\",expr(\"age*2\")).show()"
      ],
      "metadata": {
        "colab": {
          "base_uri": "https://localhost:8080/"
        },
        "id": "iyVgpVbAU0k_",
        "outputId": "3252e4a0-add3-4021-9994-f11579df1383"
      },
      "execution_count": null,
      "outputs": [
        {
          "output_type": "stream",
          "name": "stdout",
          "text": [
            "+------+---+----------+\n",
            "|  name|age|double_age|\n",
            "+------+---+----------+\n",
            "| Basha| 90|       180|\n",
            "|Ayushh| 19|        38|\n",
            "| Rafii| 23|        46|\n",
            "+------+---+----------+\n",
            "\n"
          ]
        }
      ]
    },
    {
      "cell_type": "code",
      "source": [
        "from pyspark.sql.functions import isnull, col\n",
        "df.select([isnull(c).alias(c) for c in df.columns]).show()"
      ],
      "metadata": {
        "colab": {
          "base_uri": "https://localhost:8080/"
        },
        "id": "Bbg4zVLaWU6j",
        "outputId": "1b89877c-2198-44ea-d209-1ef56c7dcec3"
      },
      "execution_count": null,
      "outputs": [
        {
          "output_type": "stream",
          "name": "stdout",
          "text": [
            "+-----+-----+\n",
            "| name|  age|\n",
            "+-----+-----+\n",
            "|false|false|\n",
            "|false|false|\n",
            "|false|false|\n",
            "+-----+-----+\n",
            "\n"
          ]
        }
      ]
    },
    {
      "cell_type": "code",
      "source": [
        "df_with_null=spark.createDataFrame([(\"Tom\",28),(None,33)],[\"Name\",\"Age\"])\n",
        "df_with_null.filter(df_with_null.Name.isNotNull()).show()"
      ],
      "metadata": {
        "colab": {
          "base_uri": "https://localhost:8080/"
        },
        "id": "WP7iPPvcXUYb",
        "outputId": "537b2920-b410-4fc3-8df3-f0379f434b4d"
      },
      "execution_count": null,
      "outputs": [
        {
          "output_type": "stream",
          "name": "stdout",
          "text": [
            "+----+---+\n",
            "|Name|Age|\n",
            "+----+---+\n",
            "| Tom| 28|\n",
            "+----+---+\n",
            "\n"
          ]
        }
      ]
    },
    {
      "cell_type": "code",
      "source": [],
      "metadata": {
        "id": "57vfY6gFYqHg"
      },
      "execution_count": null,
      "outputs": []
    }
  ]
}